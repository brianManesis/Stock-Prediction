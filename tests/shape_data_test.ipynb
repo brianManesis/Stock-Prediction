{
 "cells": [
  {
   "cell_type": "code",
   "execution_count": 6,
   "metadata": {},
   "outputs": [],
   "source": [
    "import numpy as np\n",
    "import pandas as pd"
   ]
  },
  {
   "cell_type": "markdown",
   "metadata": {},
   "source": [
    "Need to convert the data into supervised format for neural network. So data needs to be in (x,y) format where x are the features and y is the target. As time series data is sequential the features x are the number of previous days prices we use to predict next days price.\n",
    "\n",
    "Say step is 32, use past 32 days as features as look back so, x(t-32), x(t-31), ... , x(t-1) will give x(t) which is y(t) \n"
   ]
  },
  {
   "cell_type": "markdown",
   "metadata": {},
   "source": [
    "so [[1,2,3], [4,5,6], [7,8,9], [10,11,12], [13,14,15], [16,17,18]] with lookback of 2 and num_features of 3 should output:"
   ]
  },
  {
   "cell_type": "markdown",
   "metadata": {},
   "source": [
    "X = [[[1,2,3], [4,5,6]], [[4,5,6], [7,8,9]], [[7,8,9],[10,11,12]], [[10,11,12], [13,14,15]]]\n",
    "Y = [7, 10, 13, 16]"
   ]
  },
  {
   "cell_type": "code",
   "execution_count": 7,
   "metadata": {},
   "outputs": [],
   "source": [
    "# The input is a 2D list (numpy array)\n",
    "# The output is a 3D list of past look_back elements of input and at each point in input\n",
    "# \n",
    "# Note some changes were made to function based on LSTM model\n",
    "# example LSTMV3 appends last element to Y instead of first\n",
    "def shape(dataset,step, num_features):\n",
    "    X = []\n",
    "    Y = []\n",
    "    for i in range(step, len(dataset)):\n",
    "        X.append(dataset[i-step:i])\n",
    "        Y.append(dataset[i,0])\n",
    "\n",
    "    X, Y = np.array(X), np.array(Y)\n",
    "    X = np.reshape(X, (X.shape[0], X.shape[1], num_features))\n",
    "\n",
    "    return X, Y"
   ]
  },
  {
   "cell_type": "markdown",
   "metadata": {},
   "source": [
    "Input: data = [[1], [2], [3], [4], [5], [6]], look_back = 3, 1 feature"
   ]
  },
  {
   "cell_type": "markdown",
   "metadata": {},
   "source": [
    "Output: X = [[[1], [2], [3]], [[2], [3], [4]], [[3], [4], [5]]]\n",
    "Y = [4, 5, 6]"
   ]
  },
  {
   "cell_type": "code",
   "execution_count": 8,
   "metadata": {},
   "outputs": [],
   "source": [
    "data = np.array([[1], [2], [3], [4], [5], [6]])\n",
    "x,y = shape(data,3,1)\n",
    "x_expected, y_expected = np.array([[[1], [2], [3]], [[2], [3], [4]], [[3], [4], [5]]]), np.array([4, 5, 6])\n",
    "assert np.array_equal(x, x_expected)\n",
    "assert np.array_equal(y, y_expected)"
   ]
  },
  {
   "cell_type": "markdown",
   "metadata": {},
   "source": [
    "Input: data = [[1,2,3], [4,5,6], [7,8,9], [10,11,12], [13,14,15], [16,17,18]], look_back = 2, 3 features"
   ]
  },
  {
   "cell_type": "markdown",
   "metadata": {},
   "source": [
    "Output: X = [[[1,2,3], [4,5,6]], [[4,5,6], [7,8,9]], [[7,8,9],[10,11,12]], [[10,11,12], [13,14,15]]]\n",
    "Y = [7, 10, 13, 16]"
   ]
  },
  {
   "cell_type": "code",
   "execution_count": 9,
   "metadata": {},
   "outputs": [],
   "source": [
    "data = np.array([[1,2,3], [4,5,6], [7,8,9], [10,11,12], [13,14,15], [16,17,18]])\n",
    "x,y = shape(data,2,3)\n",
    "x_expected, y_expected = np.array([[[1,2,3], [4,5,6]], [[4,5,6], [7,8,9]], [[7,8,9],[10,11,12]], [[10,11,12], [13,14,15]]]), np.array([7, 10, 13, 16])\n",
    "\n",
    "assert np.array_equal(x, x_expected)\n",
    "assert np.array_equal(y, y_expected)"
   ]
  },
  {
   "cell_type": "markdown",
   "metadata": {},
   "source": [
    "input data = [[1], [2], [3], [4], [5], [6]], look_back = 5, 1 feature"
   ]
  },
  {
   "cell_type": "markdown",
   "metadata": {},
   "source": [
    "Output: X = [[[1], [2], [3], [4], [5]]], Y = [6]"
   ]
  },
  {
   "cell_type": "code",
   "execution_count": 10,
   "metadata": {},
   "outputs": [],
   "source": [
    "data = np.array([[1], [2], [3], [4], [5], [6]])\n",
    "x,y = shape(data,5,1)\n",
    "x_expected, y_expected = np.array([[[1], [2], [3], [4], [5]]]), np.array([6])\n",
    "assert np.array_equal(x, x_expected)\n",
    "assert np.array_equal(y, y_expected)"
   ]
  },
  {
   "cell_type": "markdown",
   "metadata": {},
   "source": [
    "Input: data = [[1,2,3], [4,5,6], [7,8,9], [10,11,12], [13,14,15], [16,17,18]], look_back = 3, 3 features\n"
   ]
  },
  {
   "cell_type": "markdown",
   "metadata": {},
   "source": [
    "Output: X = [[[1,2,3], [4,5,6], [7,8,9]], [[4,5,6], [7,8,9], [10,11,12]], [[7,8,9], [10,11,12], [13,14,15]]]\n",
    "Y = [10, 13, 16]"
   ]
  },
  {
   "cell_type": "code",
   "execution_count": 11,
   "metadata": {},
   "outputs": [],
   "source": [
    "data = np.array([[1,2,3], [4,5,6], [7,8,9], [10,11,12], [13,14,15], [16,17,18]])\n",
    "x,y = shape(data,3,3)\n",
    "x_expected, y_expected = np.array([[[1,2,3], [4,5,6], [7,8,9]], [[4,5,6], [7,8,9], [10,11,12]], [[7,8,9], [10,11,12], [13,14,15]]]), np.array([10, 13, 16])\n",
    "assert np.array_equal(x, x_expected)\n",
    "assert np.array_equal(y, y_expected)"
   ]
  }
 ],
 "metadata": {
  "kernelspec": {
   "display_name": "base",
   "language": "python",
   "name": "python3"
  },
  "language_info": {
   "codemirror_mode": {
    "name": "ipython",
    "version": 3
   },
   "file_extension": ".py",
   "mimetype": "text/x-python",
   "name": "python",
   "nbconvert_exporter": "python",
   "pygments_lexer": "ipython3",
   "version": "3.11.5"
  }
 },
 "nbformat": 4,
 "nbformat_minor": 2
}
