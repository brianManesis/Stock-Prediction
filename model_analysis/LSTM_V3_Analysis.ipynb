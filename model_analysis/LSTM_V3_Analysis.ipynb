{
 "cells": [
  {
   "cell_type": "code",
   "execution_count": 338,
   "metadata": {},
   "outputs": [],
   "source": [
    "import numpy as np\n",
    "from matplotlib import pyplot as plt\n",
    "import pandas as pd\n",
    "import pandas_ta as ta\n",
    "import yfinance as yf\n",
    "\n",
    "from sklearn.metrics import classification_report, confusion_matrix\n",
    "from sklearn.preprocessing import MinMaxScaler\n",
    "\n",
    "from keras.models import Sequential\n",
    "from keras.layers import LSTM\n",
    "from keras.layers import Dropout\n",
    "from keras.layers import Dense\n",
    "\n",
    "import datetime"
   ]
  },
  {
   "cell_type": "code",
   "execution_count": 339,
   "metadata": {},
   "outputs": [],
   "source": [
    "def get_data(ticker, start, end):\n",
    "    data =  yf.download(ticker, progress=True, actions=True,start=start, end=end)\n",
    "    data = pd.DataFrame(data)\n",
    "    data.rename(columns = {'Adj Close':ticker}, inplace=True)\n",
    "    data.drop(['Close', 'Dividends', 'Stock Splits'], axis=1, inplace=True)\n",
    "    data.dropna(inplace=True)\n",
    "    \n",
    "    return data"
   ]
  },
  {
   "cell_type": "code",
   "execution_count": 340,
   "metadata": {},
   "outputs": [],
   "source": [
    "ticker =  'GOOG'"
   ]
  },
  {
   "cell_type": "code",
   "execution_count": 341,
   "metadata": {},
   "outputs": [
    {
     "name": "stderr",
     "output_type": "stream",
     "text": [
      "[*********************100%%**********************]  1 of 1 completed\n"
     ]
    }
   ],
   "source": [
    "start = datetime.datetime(2012, 1, 1)\n",
    "end = datetime.datetime(2022, 12, 31)\n",
    "\n",
    "traindf = get_data(ticker, start, end)"
   ]
  },
  {
   "cell_type": "code",
   "execution_count": 342,
   "metadata": {},
   "outputs": [
    {
     "name": "stderr",
     "output_type": "stream",
     "text": [
      "[*********************100%%**********************]  1 of 1 completed\n"
     ]
    }
   ],
   "source": [
    "start_test = datetime.datetime(2023, 1, 1)\n",
    "end_test = datetime.datetime(2023, 12, 31)\n",
    "\n",
    "testdf = get_data(ticker, start_test, end_test)"
   ]
  },
  {
   "cell_type": "code",
   "execution_count": 343,
   "metadata": {},
   "outputs": [],
   "source": [
    "train_dates = traindf.index\n",
    "test_dates = testdf.index"
   ]
  },
  {
   "cell_type": "code",
   "execution_count": 344,
   "metadata": {},
   "outputs": [],
   "source": [
    "sc = MinMaxScaler(feature_range=(0,1))"
   ]
  },
  {
   "cell_type": "code",
   "execution_count": 345,
   "metadata": {},
   "outputs": [],
   "source": [
    "def feature_extraction(data):\n",
    "    for leng in [10,20,30]:\n",
    "            sma = ta.sma(data[ticker], length=leng)\n",
    "            data['SMA_'+f'{leng}'] = sma\n",
    "\n",
    "    data['RSI_14'] = ta.rsi(data[ticker], length=14)\n",
    "    stoch = ta.stoch(data['High'], data['Low'], data[ticker])\n",
    "    stochk = stoch['STOCHk_14_3_3']\n",
    "    data = data[13:]\n",
    "    data['Stoch_Oscillator'] = stochk\n",
    "\n",
    "    williams_r = ta.willr(data['High'], data['Low'], data[ticker])\n",
    "    data['Williams_%R'] = williams_r\n",
    "\n",
    "    adx = ta.adx(data['High'], data['Low'], data[ticker])\n",
    "    data['ADX'] = adx['ADX_14']\n",
    "\n",
    "    data['returns'] = np.log(data[ticker] / data[ticker].shift(1))\n",
    "    data.dropna(inplace=True)\n",
    "    data['direction'] = [1 if data.returns[i]>0 else 0 for i in range(len(data))]\n",
    "    features = [col for col in data.columns if col not in [ticker, 'returns', 'Open', 'High', 'Low', 'Volume']]\n",
    "\n",
    "    return data[features].dropna(axis=0)"
   ]
  },
  {
   "cell_type": "code",
   "execution_count": 346,
   "metadata": {},
   "outputs": [
    {
     "name": "stderr",
     "output_type": "stream",
     "text": [
      "/tmp/ipykernel_11211/36618539.py:10: SettingWithCopyWarning: \n",
      "A value is trying to be set on a copy of a slice from a DataFrame.\n",
      "Try using .loc[row_indexer,col_indexer] = value instead\n",
      "\n",
      "See the caveats in the documentation: https://pandas.pydata.org/pandas-docs/stable/user_guide/indexing.html#returning-a-view-versus-a-copy\n",
      "  data['Stoch_Oscillator'] = stochk\n",
      "/tmp/ipykernel_11211/36618539.py:13: SettingWithCopyWarning: \n",
      "A value is trying to be set on a copy of a slice from a DataFrame.\n",
      "Try using .loc[row_indexer,col_indexer] = value instead\n",
      "\n",
      "See the caveats in the documentation: https://pandas.pydata.org/pandas-docs/stable/user_guide/indexing.html#returning-a-view-versus-a-copy\n",
      "  data['Williams_%R'] = williams_r\n",
      "/tmp/ipykernel_11211/36618539.py:16: SettingWithCopyWarning: \n",
      "A value is trying to be set on a copy of a slice from a DataFrame.\n",
      "Try using .loc[row_indexer,col_indexer] = value instead\n",
      "\n",
      "See the caveats in the documentation: https://pandas.pydata.org/pandas-docs/stable/user_guide/indexing.html#returning-a-view-versus-a-copy\n",
      "  data['ADX'] = adx['ADX_14']\n",
      "/tmp/ipykernel_11211/36618539.py:18: SettingWithCopyWarning: \n",
      "A value is trying to be set on a copy of a slice from a DataFrame.\n",
      "Try using .loc[row_indexer,col_indexer] = value instead\n",
      "\n",
      "See the caveats in the documentation: https://pandas.pydata.org/pandas-docs/stable/user_guide/indexing.html#returning-a-view-versus-a-copy\n",
      "  data['returns'] = np.log(data[ticker] / data[ticker].shift(1))\n",
      "/tmp/ipykernel_11211/36618539.py:19: SettingWithCopyWarning: \n",
      "A value is trying to be set on a copy of a slice from a DataFrame\n",
      "\n",
      "See the caveats in the documentation: https://pandas.pydata.org/pandas-docs/stable/user_guide/indexing.html#returning-a-view-versus-a-copy\n",
      "  data.dropna(inplace=True)\n",
      "/tmp/ipykernel_11211/36618539.py:20: SettingWithCopyWarning: \n",
      "A value is trying to be set on a copy of a slice from a DataFrame.\n",
      "Try using .loc[row_indexer,col_indexer] = value instead\n",
      "\n",
      "See the caveats in the documentation: https://pandas.pydata.org/pandas-docs/stable/user_guide/indexing.html#returning-a-view-versus-a-copy\n",
      "  data['direction'] = [1 if data.returns[i]>0 else 0 for i in range(len(data))]\n",
      "/tmp/ipykernel_11211/36618539.py:10: SettingWithCopyWarning: \n",
      "A value is trying to be set on a copy of a slice from a DataFrame.\n",
      "Try using .loc[row_indexer,col_indexer] = value instead\n",
      "\n",
      "See the caveats in the documentation: https://pandas.pydata.org/pandas-docs/stable/user_guide/indexing.html#returning-a-view-versus-a-copy\n",
      "  data['Stoch_Oscillator'] = stochk\n",
      "/tmp/ipykernel_11211/36618539.py:13: SettingWithCopyWarning: \n",
      "A value is trying to be set on a copy of a slice from a DataFrame.\n",
      "Try using .loc[row_indexer,col_indexer] = value instead\n",
      "\n",
      "See the caveats in the documentation: https://pandas.pydata.org/pandas-docs/stable/user_guide/indexing.html#returning-a-view-versus-a-copy\n",
      "  data['Williams_%R'] = williams_r\n",
      "/tmp/ipykernel_11211/36618539.py:16: SettingWithCopyWarning: \n",
      "A value is trying to be set on a copy of a slice from a DataFrame.\n",
      "Try using .loc[row_indexer,col_indexer] = value instead\n",
      "\n",
      "See the caveats in the documentation: https://pandas.pydata.org/pandas-docs/stable/user_guide/indexing.html#returning-a-view-versus-a-copy\n",
      "  data['ADX'] = adx['ADX_14']\n",
      "/tmp/ipykernel_11211/36618539.py:18: SettingWithCopyWarning: \n",
      "A value is trying to be set on a copy of a slice from a DataFrame.\n",
      "Try using .loc[row_indexer,col_indexer] = value instead\n",
      "\n",
      "See the caveats in the documentation: https://pandas.pydata.org/pandas-docs/stable/user_guide/indexing.html#returning-a-view-versus-a-copy\n",
      "  data['returns'] = np.log(data[ticker] / data[ticker].shift(1))\n",
      "/tmp/ipykernel_11211/36618539.py:19: SettingWithCopyWarning: \n",
      "A value is trying to be set on a copy of a slice from a DataFrame\n",
      "\n",
      "See the caveats in the documentation: https://pandas.pydata.org/pandas-docs/stable/user_guide/indexing.html#returning-a-view-versus-a-copy\n",
      "  data.dropna(inplace=True)\n",
      "/tmp/ipykernel_11211/36618539.py:20: SettingWithCopyWarning: \n",
      "A value is trying to be set on a copy of a slice from a DataFrame.\n",
      "Try using .loc[row_indexer,col_indexer] = value instead\n",
      "\n",
      "See the caveats in the documentation: https://pandas.pydata.org/pandas-docs/stable/user_guide/indexing.html#returning-a-view-versus-a-copy\n",
      "  data['direction'] = [1 if data.returns[i]>0 else 0 for i in range(len(data))]\n"
     ]
    }
   ],
   "source": [
    "train = np.array(feature_extraction(traindf))\n",
    "test = np.array(feature_extraction(testdf))\n",
    "\n",
    "train = sc.fit_transform(train)\n",
    "test = sc.fit_transform(test)"
   ]
  },
  {
   "cell_type": "markdown",
   "metadata": {},
   "source": [
    "last element in each input is the target variable, append last element to Y"
   ]
  },
  {
   "cell_type": "code",
   "execution_count": 347,
   "metadata": {},
   "outputs": [
    {
     "data": {
      "text/plain": [
       "array([[0.00814292, 0.00713607, 0.00499457, 0.53998241, 0.86042771,\n",
       "        0.88201577, 0.40015488, 1.        ],\n",
       "       [0.008415  , 0.00747255, 0.00487998, 0.52268958, 0.82781729,\n",
       "        0.84090029, 0.42809586, 0.        ],\n",
       "       [0.0085925 , 0.0076394 , 0.00505674, 0.42379826, 0.77859182,\n",
       "        0.590633  , 0.39732219, 0.        ],\n",
       "       [0.00842553, 0.00760095, 0.00517834, 0.31528116, 0.59844845,\n",
       "        0.34902707, 0.37086396, 0.        ],\n",
       "       [0.00840447, 0.00760123, 0.00534016, 0.33943178, 0.45172107,\n",
       "        0.40677921, 0.33836709, 1.        ],\n",
       "       [0.0084235 , 0.00757599, 0.00557566, 0.34407618, 0.3931883 ,\n",
       "        0.41745256, 0.30853047, 1.        ],\n",
       "       [0.00824525, 0.00747162, 0.00577676, 0.26621925, 0.34322257,\n",
       "        0.20119389, 0.30112708, 0.        ],\n",
       "       [0.00816841, 0.00746455, 0.0059342 , 0.33568933, 0.32571864,\n",
       "        0.35499049, 0.29661247, 1.        ],\n",
       "       [0.00815714, 0.0075165 , 0.00618496, 0.48232293, 0.43859241,\n",
       "        0.75141123, 0.2524474 , 1.        ],\n",
       "       [0.0081154 , 0.00757451, 0.00640939, 0.45999723, 0.60557026,\n",
       "        0.69522987, 0.22585027, 0.        ]])"
      ]
     },
     "execution_count": 347,
     "metadata": {},
     "output_type": "execute_result"
    }
   ],
   "source": [
    "train[:10]"
   ]
  },
  {
   "cell_type": "code",
   "execution_count": 348,
   "metadata": {},
   "outputs": [
    {
     "data": {
      "text/plain": [
       "8"
      ]
     },
     "execution_count": 348,
     "metadata": {},
     "output_type": "execute_result"
    }
   ],
   "source": [
    "look_back = 32\n",
    "num_features = len(train[0])\n",
    "num_features"
   ]
  },
  {
   "cell_type": "markdown",
   "metadata": {},
   "source": [
    "We want the first i-1 inputs without the last feature(direction) in X and the ith inputs last input(direction) in y "
   ]
  },
  {
   "cell_type": "code",
   "execution_count": 349,
   "metadata": {},
   "outputs": [],
   "source": [
    "def preprocess_data(dataset,step):\n",
    "    X = []\n",
    "    Y = []\n",
    "    for i in range(step, len(dataset)):\n",
    "        X.append([arr[:num_features] for arr in dataset[i-step:i]])\n",
    "        Y.append(dataset[i][len(dataset[i])-1])\n",
    "\n",
    "    X, Y = np.array(X), np.array(Y)\n",
    "    X = np.reshape(X, (X.shape[0], X.shape[1], num_features))\n",
    "    return X, Y"
   ]
  },
  {
   "cell_type": "code",
   "execution_count": 350,
   "metadata": {},
   "outputs": [],
   "source": [
    "X_train, y_train = preprocess_data(train,look_back)\n",
    "X_test, y_test = preprocess_data(test, look_back)"
   ]
  },
  {
   "cell_type": "code",
   "execution_count": 351,
   "metadata": {},
   "outputs": [
    {
     "name": "stdout",
     "output_type": "stream",
     "text": [
      "Epoch 1/100\n",
      "85/85 [==============================] - 7s 42ms/step - loss: 0.6943 - accuracy: 0.5145\n",
      "Epoch 2/100\n",
      "85/85 [==============================] - 4s 41ms/step - loss: 0.6923 - accuracy: 0.5274\n",
      "Epoch 3/100\n",
      "85/85 [==============================] - 3s 35ms/step - loss: 0.6924 - accuracy: 0.5245\n",
      "Epoch 4/100\n",
      "85/85 [==============================] - 3s 35ms/step - loss: 0.6923 - accuracy: 0.5274\n",
      "Epoch 5/100\n",
      "85/85 [==============================] - 3s 36ms/step - loss: 0.6921 - accuracy: 0.5274\n",
      "Epoch 6/100\n",
      "85/85 [==============================] - 3s 36ms/step - loss: 0.6923 - accuracy: 0.5274\n",
      "Epoch 7/100\n",
      "85/85 [==============================] - 3s 36ms/step - loss: 0.6921 - accuracy: 0.5274\n",
      "Epoch 8/100\n",
      "85/85 [==============================] - 3s 35ms/step - loss: 0.6918 - accuracy: 0.5256\n",
      "Epoch 9/100\n",
      "85/85 [==============================] - 3s 34ms/step - loss: 0.6916 - accuracy: 0.5274\n",
      "Epoch 10/100\n",
      "85/85 [==============================] - 3s 39ms/step - loss: 0.6919 - accuracy: 0.5267\n",
      "Epoch 11/100\n",
      "85/85 [==============================] - 3s 36ms/step - loss: 0.6921 - accuracy: 0.5252\n",
      "Epoch 12/100\n",
      "85/85 [==============================] - 3s 37ms/step - loss: 0.6921 - accuracy: 0.5234\n",
      "Epoch 13/100\n",
      "85/85 [==============================] - 3s 37ms/step - loss: 0.6913 - accuracy: 0.5297\n",
      "Epoch 14/100\n",
      "85/85 [==============================] - 3s 37ms/step - loss: 0.6921 - accuracy: 0.5300\n",
      "Epoch 15/100\n",
      "85/85 [==============================] - 3s 37ms/step - loss: 0.6914 - accuracy: 0.5286\n",
      "Epoch 16/100\n",
      "85/85 [==============================] - 3s 37ms/step - loss: 0.6914 - accuracy: 0.5274\n",
      "Epoch 17/100\n",
      "85/85 [==============================] - 3s 38ms/step - loss: 0.6911 - accuracy: 0.5326\n",
      "Epoch 18/100\n",
      "85/85 [==============================] - 3s 38ms/step - loss: 0.6918 - accuracy: 0.5319\n",
      "Epoch 19/100\n",
      "85/85 [==============================] - 3s 37ms/step - loss: 0.6914 - accuracy: 0.5274\n",
      "Epoch 20/100\n",
      "85/85 [==============================] - 3s 38ms/step - loss: 0.6914 - accuracy: 0.5282\n",
      "Epoch 21/100\n",
      "85/85 [==============================] - 3s 38ms/step - loss: 0.6905 - accuracy: 0.5364\n",
      "Epoch 22/100\n",
      "85/85 [==============================] - 3s 37ms/step - loss: 0.6914 - accuracy: 0.5260\n",
      "Epoch 23/100\n",
      "85/85 [==============================] - 3s 40ms/step - loss: 0.6901 - accuracy: 0.5300\n",
      "Epoch 24/100\n",
      "85/85 [==============================] - 3s 38ms/step - loss: 0.6904 - accuracy: 0.5423\n",
      "Epoch 25/100\n",
      "85/85 [==============================] - 3s 38ms/step - loss: 0.6907 - accuracy: 0.5378\n",
      "Epoch 26/100\n",
      "85/85 [==============================] - 3s 37ms/step - loss: 0.6894 - accuracy: 0.5441\n",
      "Epoch 27/100\n",
      "85/85 [==============================] - 3s 37ms/step - loss: 0.6927 - accuracy: 0.5260\n",
      "Epoch 28/100\n",
      "85/85 [==============================] - 3s 38ms/step - loss: 0.6919 - accuracy: 0.5263\n",
      "Epoch 29/100\n",
      "85/85 [==============================] - 3s 37ms/step - loss: 0.6920 - accuracy: 0.5293\n",
      "Epoch 30/100\n",
      "85/85 [==============================] - 3s 36ms/step - loss: 0.6920 - accuracy: 0.5249\n",
      "Epoch 31/100\n",
      "85/85 [==============================] - 3s 36ms/step - loss: 0.6913 - accuracy: 0.5245\n",
      "Epoch 32/100\n",
      "85/85 [==============================] - 3s 39ms/step - loss: 0.6905 - accuracy: 0.5308\n",
      "Epoch 33/100\n",
      "85/85 [==============================] - 5s 53ms/step - loss: 0.6895 - accuracy: 0.5386\n",
      "Epoch 34/100\n",
      "85/85 [==============================] - 5s 61ms/step - loss: 0.6905 - accuracy: 0.5330\n",
      "Epoch 35/100\n",
      "85/85 [==============================] - 7s 84ms/step - loss: 0.6899 - accuracy: 0.5375\n",
      "Epoch 36/100\n",
      "85/85 [==============================] - 5s 64ms/step - loss: 0.6916 - accuracy: 0.5234\n",
      "Epoch 37/100\n",
      "85/85 [==============================] - 5s 63ms/step - loss: 0.6900 - accuracy: 0.5364\n",
      "Epoch 38/100\n",
      "85/85 [==============================] - 5s 59ms/step - loss: 0.6898 - accuracy: 0.5386\n",
      "Epoch 39/100\n",
      "85/85 [==============================] - 5s 56ms/step - loss: 0.6887 - accuracy: 0.5438\n",
      "Epoch 40/100\n",
      "85/85 [==============================] - 7s 88ms/step - loss: 0.6881 - accuracy: 0.5490\n",
      "Epoch 41/100\n",
      "85/85 [==============================] - 5s 58ms/step - loss: 0.6886 - accuracy: 0.5430\n",
      "Epoch 42/100\n",
      "85/85 [==============================] - 5s 56ms/step - loss: 0.6878 - accuracy: 0.5430\n",
      "Epoch 43/100\n",
      "85/85 [==============================] - 4s 49ms/step - loss: 0.6877 - accuracy: 0.5378\n",
      "Epoch 44/100\n",
      "85/85 [==============================] - 5s 57ms/step - loss: 0.6869 - accuracy: 0.5449\n",
      "Epoch 45/100\n",
      "85/85 [==============================] - 4s 52ms/step - loss: 0.6859 - accuracy: 0.5530\n",
      "Epoch 46/100\n",
      "85/85 [==============================] - 3s 35ms/step - loss: 0.6853 - accuracy: 0.5453\n",
      "Epoch 47/100\n",
      "85/85 [==============================] - 4s 42ms/step - loss: 0.6836 - accuracy: 0.5579\n",
      "Epoch 48/100\n",
      "85/85 [==============================] - 4s 48ms/step - loss: 0.6849 - accuracy: 0.5412\n",
      "Epoch 49/100\n",
      "85/85 [==============================] - 3s 36ms/step - loss: 0.6840 - accuracy: 0.5471\n",
      "Epoch 50/100\n",
      "85/85 [==============================] - 3s 36ms/step - loss: 0.6841 - accuracy: 0.5530\n",
      "Epoch 51/100\n",
      "85/85 [==============================] - 3s 33ms/step - loss: 0.6838 - accuracy: 0.5571\n",
      "Epoch 52/100\n",
      "85/85 [==============================] - 3s 35ms/step - loss: 0.6817 - accuracy: 0.5601\n",
      "Epoch 53/100\n",
      "85/85 [==============================] - 4s 45ms/step - loss: 0.6809 - accuracy: 0.5538\n",
      "Epoch 54/100\n",
      "85/85 [==============================] - 5s 53ms/step - loss: 0.6770 - accuracy: 0.5668\n",
      "Epoch 55/100\n",
      "85/85 [==============================] - 4s 44ms/step - loss: 0.6840 - accuracy: 0.5490\n",
      "Epoch 56/100\n",
      "85/85 [==============================] - 4s 47ms/step - loss: 0.6802 - accuracy: 0.5575\n",
      "Epoch 57/100\n",
      "85/85 [==============================] - 5s 54ms/step - loss: 0.6778 - accuracy: 0.5653\n",
      "Epoch 58/100\n",
      "85/85 [==============================] - 4s 46ms/step - loss: 0.6753 - accuracy: 0.5612\n",
      "Epoch 59/100\n",
      "85/85 [==============================] - 4s 45ms/step - loss: 0.6837 - accuracy: 0.5427\n",
      "Epoch 60/100\n",
      "85/85 [==============================] - 4s 42ms/step - loss: 0.6916 - accuracy: 0.5223\n",
      "Epoch 61/100\n",
      "85/85 [==============================] - 4s 44ms/step - loss: 0.6898 - accuracy: 0.5360\n",
      "Epoch 62/100\n",
      "85/85 [==============================] - 4s 47ms/step - loss: 0.6907 - accuracy: 0.5312\n",
      "Epoch 63/100\n",
      "85/85 [==============================] - 3s 40ms/step - loss: 0.6877 - accuracy: 0.5412\n",
      "Epoch 64/100\n",
      "85/85 [==============================] - 3s 38ms/step - loss: 0.6875 - accuracy: 0.5430\n",
      "Epoch 65/100\n",
      "85/85 [==============================] - 4s 49ms/step - loss: 0.6863 - accuracy: 0.5486\n",
      "Epoch 66/100\n",
      "85/85 [==============================] - 4s 52ms/step - loss: 0.6835 - accuracy: 0.5538\n",
      "Epoch 67/100\n",
      "85/85 [==============================] - 4s 43ms/step - loss: 0.6813 - accuracy: 0.5582\n",
      "Epoch 68/100\n",
      "85/85 [==============================] - 4s 44ms/step - loss: 0.6807 - accuracy: 0.5575\n",
      "Epoch 69/100\n",
      "85/85 [==============================] - 3s 41ms/step - loss: 0.6845 - accuracy: 0.5478\n",
      "Epoch 70/100\n",
      "85/85 [==============================] - 4s 47ms/step - loss: 0.6788 - accuracy: 0.5664\n",
      "Epoch 71/100\n",
      "85/85 [==============================] - 3s 35ms/step - loss: 0.6779 - accuracy: 0.5668\n",
      "Epoch 72/100\n",
      "85/85 [==============================] - 3s 41ms/step - loss: 0.6766 - accuracy: 0.5549\n",
      "Epoch 73/100\n",
      "85/85 [==============================] - 3s 39ms/step - loss: 0.6760 - accuracy: 0.5608\n",
      "Epoch 74/100\n",
      "85/85 [==============================] - 3s 41ms/step - loss: 0.6756 - accuracy: 0.5694\n",
      "Epoch 75/100\n",
      "85/85 [==============================] - 3s 34ms/step - loss: 0.6754 - accuracy: 0.5638\n",
      "Epoch 76/100\n",
      "85/85 [==============================] - 3s 38ms/step - loss: 0.6743 - accuracy: 0.5686\n",
      "Epoch 77/100\n",
      "85/85 [==============================] - 4s 50ms/step - loss: 0.6743 - accuracy: 0.5671\n",
      "Epoch 78/100\n",
      "85/85 [==============================] - 3s 37ms/step - loss: 0.6694 - accuracy: 0.5753\n",
      "Epoch 79/100\n",
      "85/85 [==============================] - 3s 36ms/step - loss: 0.6709 - accuracy: 0.5764\n",
      "Epoch 80/100\n",
      "85/85 [==============================] - 3s 36ms/step - loss: 0.6680 - accuracy: 0.5757\n",
      "Epoch 81/100\n",
      "85/85 [==============================] - 3s 34ms/step - loss: 0.6691 - accuracy: 0.5827\n",
      "Epoch 82/100\n",
      "85/85 [==============================] - 3s 39ms/step - loss: 0.6658 - accuracy: 0.5805\n",
      "Epoch 83/100\n",
      "85/85 [==============================] - 3s 40ms/step - loss: 0.6692 - accuracy: 0.5827\n",
      "Epoch 84/100\n",
      "85/85 [==============================] - 4s 41ms/step - loss: 0.6678 - accuracy: 0.5746\n",
      "Epoch 85/100\n",
      "85/85 [==============================] - 3s 34ms/step - loss: 0.6631 - accuracy: 0.5823\n",
      "Epoch 86/100\n",
      "85/85 [==============================] - 3s 34ms/step - loss: 0.6623 - accuracy: 0.5861\n",
      "Epoch 87/100\n",
      "85/85 [==============================] - 3s 34ms/step - loss: 0.6585 - accuracy: 0.5835\n",
      "Epoch 88/100\n",
      "85/85 [==============================] - 3s 34ms/step - loss: 0.6598 - accuracy: 0.5890\n",
      "Epoch 89/100\n",
      "85/85 [==============================] - 3s 34ms/step - loss: 0.6541 - accuracy: 0.6016\n",
      "Epoch 90/100\n",
      "85/85 [==============================] - 3s 36ms/step - loss: 0.6545 - accuracy: 0.6016\n",
      "Epoch 91/100\n",
      "85/85 [==============================] - 3s 36ms/step - loss: 0.6557 - accuracy: 0.5883\n",
      "Epoch 92/100\n",
      "85/85 [==============================] - 3s 37ms/step - loss: 0.6504 - accuracy: 0.6013\n",
      "Epoch 93/100\n",
      "85/85 [==============================] - 3s 34ms/step - loss: 0.6522 - accuracy: 0.5979\n",
      "Epoch 94/100\n",
      "85/85 [==============================] - 3s 34ms/step - loss: 0.6517 - accuracy: 0.5912\n",
      "Epoch 95/100\n",
      "85/85 [==============================] - 3s 34ms/step - loss: 0.6506 - accuracy: 0.5875\n",
      "Epoch 96/100\n",
      "85/85 [==============================] - 3s 35ms/step - loss: 0.6626 - accuracy: 0.5864\n",
      "Epoch 97/100\n",
      "85/85 [==============================] - 3s 34ms/step - loss: 0.6433 - accuracy: 0.6020\n",
      "Epoch 98/100\n",
      "85/85 [==============================] - 3s 34ms/step - loss: 0.6400 - accuracy: 0.6116\n",
      "Epoch 99/100\n",
      "85/85 [==============================] - 3s 35ms/step - loss: 0.6348 - accuracy: 0.6120\n",
      "Epoch 100/100\n",
      "85/85 [==============================] - 3s 34ms/step - loss: 0.6352 - accuracy: 0.6165\n"
     ]
    }
   ],
   "source": [
    "model = Sequential()\n",
    "model.add(LSTM(units=100,return_sequences=True,batch_input_shape=(32, look_back, num_features)))\n",
    "model.add(Dropout(0.1))\n",
    "model.add(LSTM(units=100,return_sequences=True))\n",
    "model.add(Dropout(0.1))\n",
    "model.add(LSTM(units=100,return_sequences=True))\n",
    "model.add(Dropout(0.1))\n",
    "model.add(LSTM(units=100))\n",
    "model.add(Dropout(0.1))\n",
    "model.add(Dense(units=1, activation='sigmoid'))\n",
    "model.compile(optimizer='adam', loss='binary_crossentropy', metrics=['accuracy'])\n",
    "\n",
    "impl = model.fit(\n",
    "    X_train,\n",
    "    y_train,\n",
    "    epochs=100\n",
    "    )"
   ]
  },
  {
   "cell_type": "code",
   "execution_count": 352,
   "metadata": {},
   "outputs": [
    {
     "name": "stdout",
     "output_type": "stream",
     "text": [
      "Model: \"sequential_22\"\n",
      "_________________________________________________________________\n",
      " Layer (type)                Output Shape              Param #   \n",
      "=================================================================\n",
      " lstm_59 (LSTM)              (32, 32, 100)             43600     \n",
      "                                                                 \n",
      " dropout_54 (Dropout)        (32, 32, 100)             0         \n",
      "                                                                 \n",
      " lstm_60 (LSTM)              (32, 32, 100)             80400     \n",
      "                                                                 \n",
      " dropout_55 (Dropout)        (32, 32, 100)             0         \n",
      "                                                                 \n",
      " lstm_61 (LSTM)              (32, 32, 100)             80400     \n",
      "                                                                 \n",
      " dropout_56 (Dropout)        (32, 32, 100)             0         \n",
      "                                                                 \n",
      " lstm_62 (LSTM)              (32, 100)                 80400     \n",
      "                                                                 \n",
      " dropout_57 (Dropout)        (32, 100)                 0         \n",
      "                                                                 \n",
      " dense_24 (Dense)            (32, 1)                   101       \n",
      "                                                                 \n",
      "=================================================================\n",
      "Total params: 284901 (1.09 MB)\n",
      "Trainable params: 284901 (1.09 MB)\n",
      "Non-trainable params: 0 (0.00 Byte)\n",
      "_________________________________________________________________\n"
     ]
    }
   ],
   "source": [
    "model.summary()"
   ]
  },
  {
   "cell_type": "code",
   "execution_count": 353,
   "metadata": {},
   "outputs": [
    {
     "name": "stdout",
     "output_type": "stream",
     "text": [
      "6/6 [==============================] - 1s 15ms/step\n"
     ]
    }
   ],
   "source": [
    "y_pred = model.predict(X_test)\n",
    "y_pred = [1 if prob >= 0.5 else 0 for prob in y_pred]"
   ]
  },
  {
   "cell_type": "code",
   "execution_count": 354,
   "metadata": {},
   "outputs": [
    {
     "data": {
      "text/plain": [
       "[0,\n",
       " 1,\n",
       " 1,\n",
       " 1,\n",
       " 1,\n",
       " 1,\n",
       " 0,\n",
       " 0,\n",
       " 1,\n",
       " 1,\n",
       " 1,\n",
       " 1,\n",
       " 1,\n",
       " 1,\n",
       " 0,\n",
       " 0,\n",
       " 0,\n",
       " 0,\n",
       " 1,\n",
       " 1,\n",
       " 1,\n",
       " 1,\n",
       " 0,\n",
       " 0,\n",
       " 1,\n",
       " 1,\n",
       " 1,\n",
       " 1,\n",
       " 1,\n",
       " 0,\n",
       " 0,\n",
       " 0,\n",
       " 1,\n",
       " 0,\n",
       " 0,\n",
       " 0,\n",
       " 0,\n",
       " 1,\n",
       " 1,\n",
       " 0,\n",
       " 0,\n",
       " 1,\n",
       " 1,\n",
       " 1,\n",
       " 1,\n",
       " 1,\n",
       " 1,\n",
       " 0,\n",
       " 1,\n",
       " 1,\n",
       " 0,\n",
       " 0,\n",
       " 1,\n",
       " 1,\n",
       " 1,\n",
       " 0,\n",
       " 1,\n",
       " 1,\n",
       " 1,\n",
       " 1,\n",
       " 1,\n",
       " 0,\n",
       " 0,\n",
       " 1,\n",
       " 1,\n",
       " 1,\n",
       " 1,\n",
       " 1,\n",
       " 1,\n",
       " 1,\n",
       " 0,\n",
       " 0,\n",
       " 0,\n",
       " 1,\n",
       " 1,\n",
       " 1,\n",
       " 1,\n",
       " 1,\n",
       " 1,\n",
       " 1,\n",
       " 1,\n",
       " 0,\n",
       " 0,\n",
       " 0,\n",
       " 1,\n",
       " 1,\n",
       " 1,\n",
       " 1,\n",
       " 0,\n",
       " 1,\n",
       " 1,\n",
       " 0,\n",
       " 0,\n",
       " 1,\n",
       " 1,\n",
       " 1,\n",
       " 1,\n",
       " 0,\n",
       " 1,\n",
       " 1,\n",
       " 1,\n",
       " 1,\n",
       " 1,\n",
       " 0,\n",
       " 0,\n",
       " 0,\n",
       " 1,\n",
       " 1,\n",
       " 1,\n",
       " 0,\n",
       " 1,\n",
       " 1,\n",
       " 1,\n",
       " 1,\n",
       " 1,\n",
       " 0,\n",
       " 0,\n",
       " 0,\n",
       " 1,\n",
       " 1,\n",
       " 1,\n",
       " 0,\n",
       " 0,\n",
       " 0,\n",
       " 1,\n",
       " 1,\n",
       " 1,\n",
       " 1,\n",
       " 1,\n",
       " 0,\n",
       " 0,\n",
       " 0,\n",
       " 1,\n",
       " 1,\n",
       " 0,\n",
       " 0,\n",
       " 0,\n",
       " 1,\n",
       " 1,\n",
       " 1,\n",
       " 1,\n",
       " 0,\n",
       " 0,\n",
       " 0,\n",
       " 0,\n",
       " 1,\n",
       " 1,\n",
       " 1,\n",
       " 1,\n",
       " 1,\n",
       " 1,\n",
       " 1,\n",
       " 0,\n",
       " 0,\n",
       " 0,\n",
       " 1,\n",
       " 1,\n",
       " 1,\n",
       " 1,\n",
       " 1,\n",
       " 1,\n",
       " 1,\n",
       " 1,\n",
       " 1,\n",
       " 0,\n",
       " 0,\n",
       " 0,\n",
       " 1,\n",
       " 1,\n",
       " 0,\n",
       " 0,\n",
       " 0,\n",
       " 0,\n",
       " 1,\n",
       " 1,\n",
       " 1,\n",
       " 1,\n",
       " 1]"
      ]
     },
     "execution_count": 354,
     "metadata": {},
     "output_type": "execute_result"
    }
   ],
   "source": [
    "y_pred"
   ]
  },
  {
   "cell_type": "code",
   "execution_count": 355,
   "metadata": {},
   "outputs": [
    {
     "data": {
      "text/plain": [
       "array([0., 0., 1., 1., 1., 0., 0., 1., 0., 0., 0., 1., 0., 1., 1., 0., 1.,\n",
       "       1., 1., 0., 1., 1., 1., 0., 1., 0., 0., 1., 1., 0., 0., 1., 1., 1.,\n",
       "       1., 0., 0., 1., 1., 1., 0., 1., 0., 0., 0., 1., 0., 0., 0., 1., 0.,\n",
       "       1., 0., 1., 0., 0., 0., 1., 1., 1., 1., 0., 0., 0., 0., 1., 1., 1.,\n",
       "       1., 1., 1., 1., 0., 0., 1., 0., 1., 0., 0., 1., 0., 1., 0., 0., 1.,\n",
       "       0., 1., 1., 1., 0., 1., 1., 1., 1., 1., 0., 0., 0., 1., 1., 1., 0.,\n",
       "       1., 1., 0., 1., 0., 0., 0., 0., 1., 0., 1., 1., 0., 1., 0., 1., 0.,\n",
       "       1., 1., 0., 1., 0., 0., 1., 1., 0., 0., 0., 1., 1., 0., 0., 0., 1.,\n",
       "       0., 1., 1., 1., 1., 1., 1., 0., 1., 0., 1., 1., 1., 0., 1., 1., 1.,\n",
       "       0., 0., 1., 0., 0., 0., 0., 1., 0., 1., 0., 0., 0., 1., 0., 1., 1.,\n",
       "       1., 1., 1., 1., 1., 0., 0., 0.])"
      ]
     },
     "execution_count": 355,
     "metadata": {},
     "output_type": "execute_result"
    }
   ],
   "source": [
    "y_test"
   ]
  },
  {
   "cell_type": "code",
   "execution_count": 356,
   "metadata": {},
   "outputs": [],
   "source": [
    "target_names = ['direction_up', 'direction_down']\n",
    "\n",
    "def measure_classification():\n",
    "    print(f'====== {model} Classification report ======')\n",
    "    print(classification_report(y_test, y_pred, target_names=target_names))\n",
    "    print(confusion_matrix(y_test, y_pred, labels=[1, 0]))"
   ]
  },
  {
   "cell_type": "code",
   "execution_count": 357,
   "metadata": {},
   "outputs": [
    {
     "name": "stdout",
     "output_type": "stream",
     "text": [
      "====== <keras.src.engine.sequential.Sequential object at 0x7b85f7b69f50> Classification report ======\n",
      "                precision    recall  f1-score   support\n",
      "\n",
      "  direction_up       0.48      0.37      0.42        83\n",
      "direction_down       0.54      0.65      0.59        95\n",
      "\n",
      "      accuracy                           0.52       178\n",
      "     macro avg       0.51      0.51      0.51       178\n",
      "  weighted avg       0.52      0.52      0.51       178\n",
      "\n",
      "[[62 33]\n",
      " [52 31]]\n"
     ]
    }
   ],
   "source": [
    "measure_classification()"
   ]
  },
  {
   "cell_type": "code",
   "execution_count": 358,
   "metadata": {},
   "outputs": [],
   "source": [
    "y_pred = pd.DataFrame(y_pred)\n",
    "y_test = pd.DataFrame(y_test)\n",
    "testdf['y_pred'] = y_pred"
   ]
  },
  {
   "cell_type": "code",
   "execution_count": 359,
   "metadata": {},
   "outputs": [
    {
     "data": {
      "text/plain": [
       "array([[<Axes: title={'center': '0'}>]], dtype=object)"
      ]
     },
     "execution_count": 359,
     "metadata": {},
     "output_type": "execute_result"
    },
    {
     "data": {
      "image/png": "[encoded data removed]",
      "text/plain": [
       "<Figure size 640x480 with 1 Axes>"
      ]
     },
     "metadata": {},
     "output_type": "display_data"
    }
   ],
   "source": [
    "y_pred.hist()"
   ]
  },
  {
   "cell_type": "code",
   "execution_count": 360,
   "metadata": {},
   "outputs": [
    {
     "data": {
      "text/plain": [
       "array([[<Axes: title={'center': '0'}>]], dtype=object)"
      ]
     },
     "execution_count": 360,
     "metadata": {},
     "output_type": "execute_result"
    },
    {
     "data": {
      "image/png": "[encoded data removed]",
      "text/plain": [
       "<Figure size 640x480 with 1 Axes>"
      ]
     },
     "metadata": {},
     "output_type": "display_data"
    }
   ],
   "source": [
    "y_test.hist()"
   ]
  }
 ],
 "metadata": {
  "kernelspec": {
   "display_name": "base",
   "language": "python",
   "name": "python3"
  },
  "language_info": {
   "codemirror_mode": {
    "name": "ipython",
    "version": 3
   },
   "file_extension": ".py",
   "mimetype": "text/x-python",
   "name": "python",
   "nbconvert_exporter": "python",
   "pygments_lexer": "ipython3",
   "version": "3.11.5"
  }
 },
 "nbformat": 4,
 "nbformat_minor": 2
}
